{
 "cells": [
  {
   "cell_type": "code",
   "execution_count": 2,
   "metadata": {},
   "outputs": [],
   "source": [
    "# Olá! Para falarmos sobre variáveis, usaremos o arquivo \"ipynb\", que é um notebook que armazena diversos códigos no mesmo arquivo\n",
    "#consulte mais sobre o Jupyter Notebook aqui: https://docs.fileformat.com/pt/word-processing/ipynb/#:~:text=ipynb%20%C3%A9%20um%20arquivo%20Jupyter,computacionais%20para%20an%C3%A1lise%20usando%20Python. "
   ]
  },
  {
   "cell_type": "code",
   "execution_count": 3,
   "metadata": {},
   "outputs": [
    {
     "name": "stdout",
     "output_type": "stream",
     "text": [
      "essa é uma variável de texto\n"
     ]
    }
   ],
   "source": [
    "#----------------------- tipos de variáveis-------------------------------#\n",
    "\n",
    "#string: armazena um valor de texto \n",
    "exemplo = 'essa é uma variável de texto' #AQUI CRIAMOS A VARIÁVEL EXEMPLO COM UM VALOR ATRIBUÍDO\n",
    "print(exemplo) #AQUI USAMOS PRINT PARA EXIBIR A VARIÁVEL NO CONSOLE."
   ]
  },
  {
   "cell_type": "code",
   "execution_count": 5,
   "metadata": {},
   "outputs": [
    {
     "name": "stdout",
     "output_type": "stream",
     "text": [
      "2\n",
      "2\n"
     ]
    }
   ],
   "source": [
    "#----------------------- tipos de variáveis-------------------------------#\n",
    "\n",
    "#int: armazerna números inteiros\n",
    "exemplo_numero = int(2) #AQUI CRIAMOS A VARIÁVEL EXEMPLO_NUMERO QUE ARMAZENA O VALOR ATRIBUIDO\n",
    "exemplo_numero_dois = int(2.1)  #AQUI CRIAMOS A VARIÁVEL EXEMPLO_NUMERO_DOIS QUE ARMAZENA O VALOR ATRIBUIDO\n",
    "print(exemplo_numero) #EXIBE O VALOR DA VARIÁVEL\n",
    "print(exemplo_numero_dois) #EXIBE O VALOR DA VARIÁVEL"
   ]
  },
  {
   "cell_type": "code",
   "execution_count": 6,
   "metadata": {},
   "outputs": [
    {
     "name": "stdout",
     "output_type": "stream",
     "text": [
      "2.5\n",
      "2.0\n"
     ]
    }
   ],
   "source": [
    "#----------------------- tipos de variáveis-------------------------------#\n",
    "\n",
    "#float: armazena números com casas decimais\n",
    "exemplo = float(2.5) #AQUI CRIAMOS A VARIÁVEL EXEMPLO QUE ARMAZENA O VALOR ATRIBUIDO\n",
    "exemplo_dois = float(2) #AQUI CRIAMOS A VARIÁVEL EXEMPLO_DOIS QUE ARMAZENA O VALOR ATRIBUIDO\n",
    "print(exemplo) #EXIBE O VALOR DA VARIÁVEL\n",
    "print(exemplo_dois) #EXIBE O VALOR DA VARIÁVEL\n"
   ]
  },
  {
   "cell_type": "code",
   "execution_count": 7,
   "metadata": {},
   "outputs": [
    {
     "name": "stdout",
     "output_type": "stream",
     "text": [
      "verdadeiro\n"
     ]
    }
   ],
   "source": [
    "#----------------------- tipos de variáveis-------------------------------#\n",
    "\n",
    "#boolean: armazena valor verdadeiro/falso\n",
    "exemplo = bool(True) #ARMARZENA COMO EXEMPLO O BOOLEANO TRUE\n",
    "\n",
    "if exemplo == True: #SE O BOOLEANO FOR VERDADEIRO\n",
    "    print('verdadeiro') #EXIBE MENSAGEM VERDADEIRO"
   ]
  }
 ],
 "metadata": {
  "kernelspec": {
   "display_name": "Python 3",
   "language": "python",
   "name": "python3"
  },
  "language_info": {
   "codemirror_mode": {
    "name": "ipython",
    "version": 3
   },
   "file_extension": ".py",
   "mimetype": "text/x-python",
   "name": "python",
   "nbconvert_exporter": "python",
   "pygments_lexer": "ipython3",
   "version": "3.9.6"
  }
 },
 "nbformat": 4,
 "nbformat_minor": 2
}
